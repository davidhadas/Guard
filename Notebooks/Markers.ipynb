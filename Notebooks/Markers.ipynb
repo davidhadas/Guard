{
 "cells": [
  {
   "cell_type": "code",
   "execution_count": 1,
   "id": "musical-cliff",
   "metadata": {},
   "outputs": [
    {
     "name": "stdout",
     "output_type": "stream",
     "text": [
      "New markers\n",
      "{'markers': ['test'], 'AllowLimit': 10, 'LearnLimit': 3, 'collectorId': 'mygate', 'minimumLearning': 1000}\n",
      "Reset markers numFeatures 1\n"
     ]
    }
   ],
   "source": [
    "#import pandas as pd \n",
    "import numpy as np\n",
    "import matplotlib.pyplot as plt\n",
    "from matplotlib.patches import Ellipse\n",
    "from scipy.stats import norm\n",
    "\n",
    "import sys, os\n",
    "cwd = os.getcwd()\n",
    "sys.path.append('../src/')\n",
    "\n",
    "import Markers\n",
    "m = Markers.Markers({\n",
    "        \"markers\": [\"test\"]\n",
    "      , \"AllowLimit\": 10\n",
    "      , \"LearnLimit\": 3\n",
    "      , \"collectorId\": \"mygate\"\n",
    "      , \"minimumLearning\": 1000\n",
    "})"
   ]
  },
  {
   "cell_type": "code",
   "execution_count": 12,
   "id": "parliamentary-smile",
   "metadata": {},
   "outputs": [
    {
     "name": "stdout",
     "output_type": "stream",
     "text": [
      "*** Markers *** Learn MEAN and SDEV\n",
      "*** Markers *** Learn MEAN and SDEV - free slot 1\n",
      "mean is now [[ 3.23913043e+000  2.41735537e+000 -1.79769313e+308 -1.79769313e+308]]\n",
      "sdev is now [[0.48941681 0.66883456 1.         1.        ]]\n",
      "*** Markers *** Learn MEAN and SDEV - clear\n"
     ]
    }
   ],
   "source": [
    "for i in range(11):\n",
    "    m.assess( {\"markers\": [1+i/11]})\n",
    "    m.learn()"
   ]
  },
  {
   "cell_type": "code",
   "execution_count": 13,
   "id": "renewable-trauma",
   "metadata": {},
   "outputs": [
    {
     "name": "stdout",
     "output_type": "stream",
     "text": [
      "Storing markers\n",
      "2\n",
      "mean is now [[ 3.23913043e+000  2.41735537e+000 -1.79769313e+308 -1.79769313e+308]]\n",
      "sdev is now [[0.48941681 0.66883456 1.         1.        ]]\n",
      "mean is now [[ 3.23913043e+000  2.02500000e+000 -1.79769313e+308 -1.79769313e+308]]\n",
      "sdev is now [[0.48941681 0.67748243 1.         1.        ]]\n",
      "3.239130434782609 0.4894168124004458\n",
      "2.0249999999999995 0.6774824263525447\n"
     ]
    },
    {
     "data": {
      "image/png": "[encoded data removed]",
      "text/plain": [
       "<Figure size 432x288 with 1 Axes>"
      ]
     },
     "metadata": {
      "needs_background": "light"
     },
     "output_type": "display_data"
    }
   ],
   "source": [
    "status = {}\n",
    "m.crdstore(status)\n",
    "s = status[\"markers\"][\"test\"]\n",
    "print(len(s.keys()))\n",
    "m.crdload(status)\n",
    "\n",
    "allx = []\n",
    "ally = []\n",
    "for i in range(len(s.keys())):\n",
    "    mu = m.mean[0][i]\n",
    "    sigma = m.sdev[0][i]\n",
    "    print(mu, sigma)\n",
    "\n",
    "    x = np.linspace(mu - 3*sigma, mu + 3*sigma, 100)\n",
    "    allx.extend(x.tolist())\n",
    "    ally.extend(norm.pdf(x, mu, sigma).tolist())\n",
    "plt.plot(allx, ally)\n",
    "plt.show()"
   ]
  },
  {
   "cell_type": "code",
   "execution_count": null,
   "id": "crude-earthquake",
   "metadata": {},
   "outputs": [],
   "source": []
  },
  {
   "cell_type": "code",
   "execution_count": null,
   "id": "attempted-field",
   "metadata": {},
   "outputs": [],
   "source": []
  }
 ],
 "metadata": {
  "kernelspec": {
   "display_name": "Guard",
   "language": "python",
   "name": "guard"
  },
  "language_info": {
   "codemirror_mode": {
    "name": "ipython",
    "version": 3
   },
   "file_extension": ".py",
   "mimetype": "text/x-python",
   "name": "python",
   "nbconvert_exporter": "python",
   "pygments_lexer": "ipython3",
   "version": "3.9.2"
  }
 },
 "nbformat": 4,
 "nbformat_minor": 5
}
